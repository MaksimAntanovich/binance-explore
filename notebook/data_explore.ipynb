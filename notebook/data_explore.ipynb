{
 "cells": [
  {
   "cell_type": "code",
   "execution_count": null,
   "metadata": {
    "ExecuteTime": {
     "end_time": "2023-05-14T20:21:09.428060013Z",
     "start_time": "2023-05-14T20:21:09.326053149Z"
    }
   },
   "outputs": [],
   "source": [
    "! rm -rf ../output/*"
   ]
  },
  {
   "cell_type": "code",
   "execution_count": null,
   "metadata": {
    "ExecuteTime": {
     "end_time": "2023-05-14T20:21:09.444501924Z",
     "start_time": "2023-05-14T20:21:09.436275704Z"
    }
   },
   "outputs": [],
   "source": [
    "import os\n",
    "os.chdir(os.getcwd() + \"/..\")"
   ]
  },
  {
   "cell_type": "code",
   "execution_count": null,
   "metadata": {
    "ExecuteTime": {
     "end_time": "2023-05-14T20:21:12.988496119Z",
     "start_time": "2023-05-14T20:21:09.447650784Z"
    }
   },
   "outputs": [],
   "source": [
    "from src.jobcontext import JobContext\n",
    "from pyhocon import ConfigFactory\n",
    "\n",
    "class Args:\n",
    "    start = \"2023-04-01\"\n",
    "    end = \"2023-04-07\"\n",
    "    job = \"SimpleJob\"\n",
    "    config = \"resource/config.conf\"\n",
    "\n",
    "args = Args()\n",
    "\n",
    "config = ConfigFactory.parse_file(args.config)\n",
    "context = JobContext(config, args.job, args.start, args.end)\n",
    "spark = context.create_spark_session()\n",
    "context.spark = spark"
   ]
  },
  {
   "cell_type": "code",
   "execution_count": null,
   "metadata": {
    "ExecuteTime": {
     "end_time": "2023-05-14T20:21:24.248322846Z",
     "start_time": "2023-05-14T20:21:12.993213447Z"
    }
   },
   "outputs": [],
   "source": [
    "from src.jobs import SimpleJob\n",
    "\n",
    "job = SimpleJob(context)\n",
    "data = job.transform()"
   ]
  },
  {
   "cell_type": "code",
   "execution_count": null,
   "metadata": {
    "ExecuteTime": {
     "end_time": "2023-05-14T20:22:25.646367160Z",
     "start_time": "2023-05-14T20:22:25.439912684Z"
    }
   },
   "outputs": [],
   "source": [
    "pandas_df = data.toPandas()"
   ]
  },
  {
   "cell_type": "code",
   "execution_count": null,
   "metadata": {
    "ExecuteTime": {
     "end_time": "2023-05-14T20:22:32.381886212Z",
     "start_time": "2023-05-14T20:22:32.375432810Z"
    }
   },
   "outputs": [],
   "source": [
    "pandas_df"
   ]
  },
  {
   "cell_type": "code",
   "execution_count": null,
   "metadata": {
    "ExecuteTime": {
     "end_time": "2023-05-14T20:20:54.054019311Z",
     "start_time": "2023-05-14T20:20:53.793943477Z"
    }
   },
   "outputs": [],
   "source": [
    "spark.stop()"
   ]
  },
  {
   "cell_type": "code",
   "execution_count": null,
   "metadata": {},
   "outputs": [],
   "source": []
  }
 ],
 "metadata": {
  "kernelspec": {
   "display_name": "Python 3 (ipykernel)",
   "language": "python",
   "name": "python3"
  },
  "language_info": {
   "codemirror_mode": {
    "name": "ipython",
    "version": 3
   },
   "file_extension": ".py",
   "mimetype": "text/x-python",
   "name": "python",
   "nbconvert_exporter": "python",
   "pygments_lexer": "ipython3",
   "version": "3.10.10"
  }
 },
 "nbformat": 4,
 "nbformat_minor": 1
}
