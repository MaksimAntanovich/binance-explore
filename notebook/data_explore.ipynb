{
 "cells": [
  {
   "cell_type": "code",
   "execution_count": null,
   "metadata": {
    "ExecuteTime": {
     "end_time": "2023-05-14T20:51:02.324982430Z",
     "start_time": "2023-05-14T20:51:02.238044564Z"
    }
   },
   "outputs": [],
   "source": [
    "! rm -rf ../output/*"
   ]
  },
  {
   "cell_type": "code",
   "execution_count": null,
   "metadata": {
    "ExecuteTime": {
     "end_time": "2023-05-14T20:51:02.341710651Z",
     "start_time": "2023-05-14T20:51:02.336288667Z"
    }
   },
   "outputs": [],
   "source": [
    "import os\n",
    "os.chdir(os.getcwd() + \"/..\")"
   ]
  },
  {
   "cell_type": "code",
   "execution_count": null,
   "metadata": {
    "ExecuteTime": {
     "end_time": "2023-05-14T20:51:05.914371980Z",
     "start_time": "2023-05-14T20:51:02.351461174Z"
    }
   },
   "outputs": [],
   "source": [
    "from src.jobcontext import JobContext\n",
    "from pyhocon import ConfigFactory\n",
    "\n",
    "class Args:\n",
    "    start = \"2023-04-01\"\n",
    "    end = \"2023-04-07\"\n",
    "    job = \"SimpleJob\"\n",
    "    config = \"resource/config.conf\"\n",
    "\n",
    "args = Args()\n",
    "\n",
    "config = ConfigFactory.parse_file(args.config)\n",
    "context = JobContext(config, args.job, args.start, args.end)\n",
    "spark = context.create_spark_session()\n",
    "context.spark = spark"
   ]
  },
  {
   "cell_type": "code",
   "execution_count": null,
   "metadata": {
    "ExecuteTime": {
     "end_time": "2023-05-14T20:52:13.534582326Z",
     "start_time": "2023-05-14T20:51:05.916492264Z"
    }
   },
   "outputs": [],
   "source": [
    "from src.jobs import SimpleJob\n",
    "\n",
    "job = SimpleJob(context)\n",
    "data = job.transform()"
   ]
  },
  {
   "cell_type": "code",
   "execution_count": null,
   "metadata": {
    "ExecuteTime": {
     "end_time": "2023-05-14T20:52:24.514789257Z",
     "start_time": "2023-05-14T20:52:18.898824138Z"
    }
   },
   "outputs": [],
   "source": [
    "pandas_df = data.toPandas()"
   ]
  },
  {
   "cell_type": "code",
   "execution_count": null,
   "metadata": {
    "ExecuteTime": {
     "end_time": "2023-05-14T20:52:26.090292979Z",
     "start_time": "2023-05-14T20:52:26.078571121Z"
    }
   },
   "outputs": [],
   "source": [
    "pandas_df"
   ]
  },
  {
   "cell_type": "code",
   "execution_count": null,
   "metadata": {
    "ExecuteTime": {
     "end_time": "2023-05-14T20:48:59.974248182Z",
     "start_time": "2023-05-14T20:48:59.751975164Z"
    }
   },
   "outputs": [],
   "source": [
    "spark.stop()"
   ]
  }
 ],
 "metadata": {
  "kernelspec": {
   "display_name": "Python 3 (ipykernel)",
   "language": "python",
   "name": "python3"
  },
  "language_info": {
   "codemirror_mode": {
    "name": "ipython",
    "version": 3
   },
   "file_extension": ".py",
   "mimetype": "text/x-python",
   "name": "python",
   "nbconvert_exporter": "python",
   "pygments_lexer": "ipython3",
   "version": "3.10.10"
  }
 },
 "nbformat": 4,
 "nbformat_minor": 1
}
