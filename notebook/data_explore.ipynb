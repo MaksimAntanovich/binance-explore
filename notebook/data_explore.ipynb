{
 "cells": [
  {
   "cell_type": "code",
   "execution_count": null,
   "metadata": {
    "ExecuteTime": {
     "end_time": "2023-06-11T11:48:39.011543173Z",
     "start_time": "2023-06-11T11:48:38.902235653Z"
    }
   },
   "outputs": [],
   "source": [
    "! rm -rf ../output/*"
   ]
  },
  {
   "cell_type": "code",
   "execution_count": null,
   "metadata": {
    "ExecuteTime": {
     "end_time": "2023-06-11T11:48:39.026200901Z",
     "start_time": "2023-06-11T11:48:39.019429804Z"
    }
   },
   "outputs": [],
   "source": [
    "import os\n",
    "os.chdir(os.getcwd() + \"/..\")"
   ]
  },
  {
   "cell_type": "code",
   "execution_count": null,
   "metadata": {
    "ExecuteTime": {
     "end_time": "2023-06-11T11:48:42.392210883Z",
     "start_time": "2023-06-11T11:48:39.032291754Z"
    }
   },
   "outputs": [],
   "source": [
    "from src.jobcontext import JobContext\n",
    "from pyhocon import ConfigFactory\n",
    "\n",
    "class Args:\n",
    "    start = \"2023-06-01\"\n",
    "    end = \"2023-06-03\"\n",
    "    job = \"SimpleJob\"\n",
    "    config = \"resource/config.conf\"\n",
    "\n",
    "args = Args()\n",
    "\n",
    "config = ConfigFactory.parse_file(args.config)\n",
    "context = JobContext(config, args.job, args.start, args.end)\n",
    "spark = context.create_spark_session()\n",
    "context.spark = spark"
   ]
  },
  {
   "cell_type": "code",
   "execution_count": null,
   "metadata": {
    "ExecuteTime": {
     "end_time": "2023-05-14T20:52:13.534582326Z",
     "start_time": "2023-05-14T20:51:05.916492264Z"
    }
   },
   "outputs": [],
   "source": [
    "from src.jobs import SimpleJob\n",
    "\n",
    "job = SimpleJob(context)\n",
    "data = job.transform()"
   ]
  },
  {
   "cell_type": "code",
   "execution_count": null,
   "metadata": {
    "ExecuteTime": {
     "end_time": "2023-05-14T20:52:24.514789257Z",
     "start_time": "2023-05-14T20:52:18.898824138Z"
    }
   },
   "outputs": [],
   "source": [
    "pandas_df = data.toPandas()"
   ]
  },
  {
   "cell_type": "code",
   "execution_count": null,
   "metadata": {
    "ExecuteTime": {
     "end_time": "2023-05-14T20:52:26.090292979Z",
     "start_time": "2023-05-14T20:52:26.078571121Z"
    }
   },
   "outputs": [],
   "source": [
    "pandas_df"
   ]
  },
  {
   "cell_type": "code",
   "execution_count": null,
   "metadata": {
    "ExecuteTime": {
     "end_time": "2023-05-15T16:02:23.232258099Z",
     "start_time": "2023-05-15T16:02:22.052756834Z"
    }
   },
   "outputs": [],
   "source": [
    "from src.datatypes.btcusdt_trades import BtcUsdtTrades\n",
    "import pandas as pd\n",
    "datatype = BtcUsdtTrades(None)\n",
    "df = pd.read_csv(\"data/BTCUSDT-trades-2023-04-01.zip\", header=None, names=datatype.schema.names)"
   ]
  },
  {
   "cell_type": "code",
   "execution_count": null,
   "metadata": {
    "ExecuteTime": {
     "end_time": "2023-05-15T16:05:59.778698102Z",
     "start_time": "2023-05-15T16:05:59.737507109Z"
    }
   },
   "outputs": [],
   "source": [
    "df[\"time_sec\"] = df[\"time\"] / 3600000\n"
   ]
  },
  {
   "cell_type": "code",
   "execution_count": null,
   "metadata": {
    "ExecuteTime": {
     "end_time": "2023-05-15T16:06:02.023792021Z",
     "start_time": "2023-05-15T16:06:00.372201671Z"
    }
   },
   "outputs": [],
   "source": [
    "df.groupby(\"time_sec\", as_index=False).agg({\"price\": \"median\"}).plot.scatter(x=\"time_sec\", y=\"price\")"
   ]
  },
  {
   "cell_type": "code",
   "execution_count": null,
   "metadata": {
    "ExecuteTime": {
     "end_time": "2023-06-11T11:48:48.186296649Z",
     "start_time": "2023-06-11T11:48:42.396634627Z"
    }
   },
   "outputs": [],
   "source": [
    "from  src.datatypes.btcusdt_eoh_option_trades import BtcUsdtEohOptionTrades\n",
    "datatype = BtcUsdtEohOptionTrades(spark)\n",
    "option_eoh = datatype.load(context.date_range)"
   ]
  },
  {
   "cell_type": "code",
   "execution_count": null,
   "metadata": {
    "ExecuteTime": {
     "end_time": "2023-06-11T11:49:02.402716989Z",
     "start_time": "2023-06-11T11:49:01.497061406Z"
    }
   },
   "outputs": [],
   "source": [
    "option_eoh.toPandas()"
   ]
  },
  {
   "cell_type": "code",
   "execution_count": null,
   "metadata": {},
   "outputs": [],
   "source": [
    "spark.stop()"
   ]
  }
 ],
 "metadata": {
  "kernelspec": {
   "display_name": "Python 3 (ipykernel)",
   "language": "python",
   "name": "python3"
  },
  "language_info": {
   "codemirror_mode": {
    "name": "ipython",
    "version": 3
   },
   "file_extension": ".py",
   "mimetype": "text/x-python",
   "name": "python",
   "nbconvert_exporter": "python",
   "pygments_lexer": "ipython3",
   "version": "3.10.11"
  }
 },
 "nbformat": 4,
 "nbformat_minor": 1
}
